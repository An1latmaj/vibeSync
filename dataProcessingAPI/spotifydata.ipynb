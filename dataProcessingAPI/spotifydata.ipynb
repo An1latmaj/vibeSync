{
 "cells": [
  {
   "cell_type": "code",
   "id": "initial_id",
   "metadata": {
    "collapsed": true,
    "ExecuteTime": {
     "end_time": "2025-02-16T06:41:43.768724Z",
     "start_time": "2025-02-16T06:41:43.215542Z"
    }
   },
   "source": [
    "from collections import defaultdict\n",
    "\n",
    "import pandas as pd\n",
    "import os\n",
    "\n",
    "from pandas.core.methods.to_dict import to_dict\n",
    "\n",
    "\n",
    "def readFiles(FilePath):\n",
    "    if not os.path.exists(FilePath):\n",
    "        raise FileNotFoundError(f\"Directory not found: {FilePath}\")\n",
    "    dirFiles=os.listdir(FilePath)\n",
    "    entireHistory=pd.DataFrame()\n",
    "    for file in dirFiles:\n",
    "        if file.endswith(\".json\"):\n",
    "            entireHistory=pd.concat([entireHistory,pd.read_json(FilePath+file)])\n",
    "    return entireHistory\n",
    "\n",
    "def filterHistory(Data):\n",
    "    processed=Data.drop([\"platform\",\"ip_addr\",\"shuffle\",\"offline\",\"offline_timestamp\",\"conn_country\",\"incognito_mode\",\"reason_start\",\"spotify_track_uri\",\"spotify_episode_uri\",\"audiobook_chapter_title\",\"audiobook_chapter_uri\",\"audiobook_title\",\"audiobook_uri\",\"episode_show_name\",\"episode_name\",\"skipped\"],axis=1) #removing columns that don't give us any useful information\n",
    "    processed=processed[~processed[\"master_metadata_track_name\"].isna()] #dropping rows that aren't songs (podcasts, audiobooks etc...)\n",
    "    processed=processed[processed[\"ms_played\"]>25000]\n",
    "    processed[\"ts\"]= pd.to_datetime(processed[\"ts\"]).dt.date\n",
    "    processed.reset_index(inplace=True,drop=True)\n",
    "    processed.columns=[\"ts\",\"ms_played\",\"track_name\",\"artist_name\",\"album_name\",\"reason_end\"]\n",
    "    return processed\n",
    "\n",
    "\n"
   ],
   "outputs": [],
   "execution_count": 17
  },
  {
   "metadata": {
    "ExecuteTime": {
     "end_time": "2025-02-16T06:41:46.206887Z",
     "start_time": "2025-02-16T06:41:44.254692Z"
    }
   },
   "cell_type": "code",
   "source": [
    "testPath=\"../\"\n",
    "try:\n",
    "    extendedHistory=readFiles(testPath)\n",
    "except FileNotFoundError:\n",
    "    print(\"File not found enter the correct path\")\n"
   ],
   "id": "98af26d7838d5ad5",
   "outputs": [],
   "execution_count": 18
  },
  {
   "metadata": {
    "ExecuteTime": {
     "end_time": "2025-02-16T06:41:48.277550Z",
     "start_time": "2025-02-16T06:41:48.059695Z"
    }
   },
   "cell_type": "code",
   "source": "filteredHistory=filterHistory(extendedHistory)",
   "id": "bc7f7e5a00a79605",
   "outputs": [],
   "execution_count": 19
  },
  {
   "metadata": {
    "ExecuteTime": {
     "end_time": "2025-02-13T16:34:14.610447Z",
     "start_time": "2025-02-13T16:34:14.584989Z"
    }
   },
   "cell_type": "code",
   "source": "top_artists=filteredHistory.groupby(\"artist_name\")",
   "id": "8c9dd95d0692f4c7",
   "outputs": [],
   "execution_count": 15
  },
  {
   "metadata": {
    "ExecuteTime": {
     "end_time": "2025-02-13T16:25:40.121701Z",
     "start_time": "2025-02-13T16:25:40.114682Z"
    }
   },
   "cell_type": "code",
   "source": [
    "def generateJson(username,filteredHistory):\n",
    "    json_structure = {\n",
    "        \"username\":username,\n",
    "        \"total_plays\":len(filteredHistory),\n",
    "        \"artists\":{}\n",
    "    }\n",
    "    groupby_artist = filteredHistory.groupby(\"artist_name\")\n",
    "    for artist,data in groupby_artist:\n",
    "        artist_data = {\n",
    "            \"total_plays\":len(data),\n",
    "            \"tracks\":defaultdict(int),\n",
    "            \"albums\":defaultdict(int)\n",
    "        }\n",
    "        track_plays=data.groupby(\"track_name\").size()\n",
    "        for track_name, play_count in track_plays.items():\n",
    "            artist_data[\"tracks\"][track_name]=play_count\n",
    "        album_plays=data.groupby(\"album_name\").size()\n",
    "        for album_name, play_count in album_plays.items():\n",
    "            artist_data[\"albums\"][album_name]=play_count\n",
    "        json_structure[\"artists\"][artist]=artist_data\n",
    "    return json_structure"
   ],
   "id": "34bfa5634942f330",
   "outputs": [],
   "execution_count": 6
  },
  {
   "metadata": {
    "ExecuteTime": {
     "end_time": "2025-02-13T16:34:36.125952Z",
     "start_time": "2025-02-13T16:34:36.106269Z"
    }
   },
   "cell_type": "code",
   "source": "filteredHistory.head()",
   "id": "106cbd1cd22e8893",
   "outputs": [
    {
     "data": {
      "text/plain": [
       "           ts  ms_played               track_name    artist_name  \\\n",
       "0  2024-05-31      27561        Bangala Kathamulo  Ramana Gogula   \n",
       "1  2024-06-22      29753               Candy Shop        50 Cent   \n",
       "2  2024-09-07      29753                  カワキヲアメク             美波   \n",
       "3  2022-09-12     212578              Never Again         Ryan.B   \n",
       "4  2022-09-12     178770  放個大招給你看 (OPPO Reno 宣傳曲)         Ryan.B   \n",
       "\n",
       "                album_name reason_end  \n",
       "0                    Badri    endplay  \n",
       "1             The Massacre  trackdone  \n",
       "2                  カワキヲアメク  trackdone  \n",
       "3              Never Again  trackdone  \n",
       "4  放個大招給你看 (OPPO Reno 宣傳曲)  trackdone  "
      ],
      "text/html": [
       "<div>\n",
       "<style scoped>\n",
       "    .dataframe tbody tr th:only-of-type {\n",
       "        vertical-align: middle;\n",
       "    }\n",
       "\n",
       "    .dataframe tbody tr th {\n",
       "        vertical-align: top;\n",
       "    }\n",
       "\n",
       "    .dataframe thead th {\n",
       "        text-align: right;\n",
       "    }\n",
       "</style>\n",
       "<table border=\"1\" class=\"dataframe\">\n",
       "  <thead>\n",
       "    <tr style=\"text-align: right;\">\n",
       "      <th></th>\n",
       "      <th>ts</th>\n",
       "      <th>ms_played</th>\n",
       "      <th>track_name</th>\n",
       "      <th>artist_name</th>\n",
       "      <th>album_name</th>\n",
       "      <th>reason_end</th>\n",
       "    </tr>\n",
       "  </thead>\n",
       "  <tbody>\n",
       "    <tr>\n",
       "      <th>0</th>\n",
       "      <td>2024-05-31</td>\n",
       "      <td>27561</td>\n",
       "      <td>Bangala Kathamulo</td>\n",
       "      <td>Ramana Gogula</td>\n",
       "      <td>Badri</td>\n",
       "      <td>endplay</td>\n",
       "    </tr>\n",
       "    <tr>\n",
       "      <th>1</th>\n",
       "      <td>2024-06-22</td>\n",
       "      <td>29753</td>\n",
       "      <td>Candy Shop</td>\n",
       "      <td>50 Cent</td>\n",
       "      <td>The Massacre</td>\n",
       "      <td>trackdone</td>\n",
       "    </tr>\n",
       "    <tr>\n",
       "      <th>2</th>\n",
       "      <td>2024-09-07</td>\n",
       "      <td>29753</td>\n",
       "      <td>カワキヲアメク</td>\n",
       "      <td>美波</td>\n",
       "      <td>カワキヲアメク</td>\n",
       "      <td>trackdone</td>\n",
       "    </tr>\n",
       "    <tr>\n",
       "      <th>3</th>\n",
       "      <td>2022-09-12</td>\n",
       "      <td>212578</td>\n",
       "      <td>Never Again</td>\n",
       "      <td>Ryan.B</td>\n",
       "      <td>Never Again</td>\n",
       "      <td>trackdone</td>\n",
       "    </tr>\n",
       "    <tr>\n",
       "      <th>4</th>\n",
       "      <td>2022-09-12</td>\n",
       "      <td>178770</td>\n",
       "      <td>放個大招給你看 (OPPO Reno 宣傳曲)</td>\n",
       "      <td>Ryan.B</td>\n",
       "      <td>放個大招給你看 (OPPO Reno 宣傳曲)</td>\n",
       "      <td>trackdone</td>\n",
       "    </tr>\n",
       "  </tbody>\n",
       "</table>\n",
       "</div>"
      ]
     },
     "execution_count": 17,
     "metadata": {},
     "output_type": "execute_result"
    }
   ],
   "execution_count": 17
  },
  {
   "metadata": {},
   "cell_type": "code",
   "outputs": [],
   "execution_count": null,
   "source": [
    "from fastapi import FastAPI, HTTPException\n",
    "import sqlite3\n",
    "from typing import List\n",
    "\n",
    "def saveToSql(filteredData: pd.DataFrame,username: str,db_path: str=\"spotify_data.db\"):\n",
    "    conn=sqlite3.connect(db_path)\n",
    "    createTableUnique = \"\"\"USERS{\n",
    "    id INTEGER PRIMARY KEY AUTOINCREMENT,\n",
    "    username TEXT UNIQUE\n",
    "    }\"\"\"\n",
    "    conn.execute(createTableUnique)\n",
    "    cursor = conn.cursor()\n",
    "    cursor.execute(\"INSERT OR IGNORE INTO Users (username) VALUES (?)\", (username,))\n",
    "    conn.commit()\n",
    "    cursor.execute(\"SELECT id FROM USERS WHERE username = ?\", (username,))\n",
    "    user_id = cursor.fetchone()[0]\n",
    "\n",
    "    create_table_query=\"\"\"\n",
    "    CREATE TABLE IF NOT EXISTS StreamingHistory(\n",
    "    id INTEGER PRIMARY KEY AUTOINCREMENT,\n",
    "    username TEXT,\n",
    "    ts TEXT,\n",
    "    ms_played INTEGER,\n",
    "    track_name TEXT,\n",
    "    artist_name TEXT,\n",
    "    album_name TEXT,\n",
    "    reason_end TEXT\n",
    "    )\n",
    "    \"\"\"\n",
    "    conn.execute(create_table_query)\n",
    "    filteredData[\"user_id\"]=user_id\n",
    "    filteredData.drop(columns=[\"username\"], errors=\"ignore\", inplace=True)  # Drop username if it exists\n",
    "\n",
    "    filteredData.to_sql(\"StreamingHistory\",conn,if_exists=\"append\",index=False)\n",
    "    conn.close()"
   ],
   "id": "c12c88494055a944"
  },
  {
   "metadata": {},
   "cell_type": "code",
   "outputs": [],
   "execution_count": null,
   "source": [
    "import spotipy\n",
    "from spotipy.oauth2 import SpotifyOAuth\n",
    "\n",
    "sp = spotipy.Spotify(auth_manager=SpotifyOAuth(client_id=\"7a79eb3e972b495ca9ce12142796e2b4\",\n",
    "                                               client_secret=\"745ab3b3687e4fee91f8ecbf7f4e30ab\",\n",
    "                                               redirect_uri=\"http://localhost:1110\",\n",
    "                                               scope=\"user-library-read\"))"
   ],
   "id": "10f276dc6ebf92a9"
  },
  {
   "metadata": {
    "ExecuteTime": {
     "end_time": "2025-02-14T04:16:20.358038Z",
     "start_time": "2025-02-14T04:16:20.352879Z"
    }
   },
   "cell_type": "code",
   "source": [
    "import sqlite3\n",
    "\n",
    "con=sqlite3.connect(\"test.db\")\n",
    "cur=con.cursor()"
   ],
   "id": "a3a2dafa60673dda",
   "outputs": [],
   "execution_count": 1
  },
  {
   "metadata": {
    "ExecuteTime": {
     "end_time": "2025-02-14T04:21:59.405150Z",
     "start_time": "2025-02-14T04:21:59.388701Z"
    }
   },
   "cell_type": "code",
   "source": [
    "cur.execute(\"CREATE TABLE movie(title TEXT,year INTEGER, score INTEGER)\")\n",
    "res=cur.execute(\"SELECT name from sqlite_master\")\n",
    "res.fetchone()"
   ],
   "id": "9c4ef3dafc513995",
   "outputs": [
    {
     "data": {
      "text/plain": [
       "('movie',)"
      ]
     },
     "execution_count": 4,
     "metadata": {},
     "output_type": "execute_result"
    }
   ],
   "execution_count": 4
  },
  {
   "metadata": {
    "ExecuteTime": {
     "end_time": "2025-02-16T06:25:59.774670Z",
     "start_time": "2025-02-16T06:25:59.768855Z"
    }
   },
   "cell_type": "code",
   "source": [
    "import sqlite3\n",
    "conn = sqlite3.connect(\"spotify_data.db\")"
   ],
   "id": "18c2d7078560db77",
   "outputs": [],
   "execution_count": 1
  },
  {
   "metadata": {
    "ExecuteTime": {
     "end_time": "2025-02-16T06:29:49.230754Z",
     "start_time": "2025-02-16T06:29:49.204036Z"
    }
   },
   "cell_type": "code",
   "source": [
    "cursor = conn.cursor()\n",
    "query = \"\"\"\n",
    "SELECT track_name, COUNT(*) AS play_count\n",
    "FROM StreamingHistory\n",
    "WHERE artist_name = 'Joji'\n",
    "GROUP BY track_name\n",
    "ORDER BY play_count DESC;\n",
    "\"\"\"\n",
    "cursor.execute(query)"
   ],
   "id": "4ee76953f0253049",
   "outputs": [
    {
     "data": {
      "text/plain": [
       "<sqlite3.Cursor at 0x78399fc34e40>"
      ]
     },
     "execution_count": 10,
     "metadata": {},
     "output_type": "execute_result"
    }
   ],
   "execution_count": 10
  },
  {
   "metadata": {
    "ExecuteTime": {
     "end_time": "2025-02-16T06:29:49.788862Z",
     "start_time": "2025-02-16T06:29:49.783057Z"
    }
   },
   "cell_type": "code",
   "source": [
    "results=cursor.fetchall()\n",
    "for row in results:\n",
    "    print(f\"Track: {row[0]}, Play Count: {row[1]}\")"
   ],
   "id": "91047f22366ee127",
   "outputs": [
    {
     "name": "stdout",
     "output_type": "stream",
     "text": [
      "Track: Like You Do, Play Count: 102\n",
      "Track: SLOW DANCING IN THE DARK, Play Count: 90\n",
      "Track: Afterthought, Play Count: 86\n",
      "Track: worldstar money (interlude), Play Count: 84\n",
      "Track: Sanctuary, Play Count: 64\n",
      "Track: Normal People (feat. rei brown), Play Count: 48\n",
      "Track: Daylight, Play Count: 28\n",
      "Track: Glimpse of Us, Play Count: 24\n",
      "Track: ATTENTION, Play Count: 22\n",
      "Track: CAN'T GET OVER YOU (feat. Clams Casino), Play Count: 20\n",
      "Track: Die For You, Play Count: 18\n",
      "Track: Feeling Like The End, Play Count: 14\n",
      "Track: Demons, Play Count: 14\n",
      "Track: 777, Play Count: 14\n",
      "Track: YEAH RIGHT, Play Count: 12\n",
      "Track: Will He, Play Count: 12\n",
      "Track: TEST DRIVE, Play Count: 8\n",
      "Track: R.I.P. (feat. Trippie Redd), Play Count: 8\n",
      "Track: Gimme Love, Play Count: 8\n",
      "Track: Bitter Fuck, Play Count: 8\n",
      "Track: Your Man, Play Count: 6\n",
      "Track: YUKON (INTERLUDE), Play Count: 6\n",
      "Track: Upgrade, Play Count: 6\n",
      "Track: NITROUS, Play Count: 6\n",
      "Track: NIGHT RIDER, Play Count: 6\n",
      "Track: I Don't Wanna Waste My Time, Play Count: 6\n",
      "Track: Ew, Play Count: 6\n",
      "Track: 1AM FREESTYLE, Play Count: 6\n",
      "Track: Plastic Taste, Play Count: 4\n",
      "Track: Pills, Play Count: 4\n",
      "Track: Mr. Hollywood, Play Count: 4\n",
      "Track: MODUS, Play Count: 4\n",
      "Track: Dissolve, Play Count: 4\n",
      "Track: XNXX, Play Count: 2\n",
      "Track: Window, Play Count: 2\n",
      "Track: WHY AM I STILL IN LA (feat. Shlohmo & D33J), Play Count: 2\n",
      "Track: WANTED U, Play Count: 2\n",
      "Track: Tick Tock, Play Count: 2\n",
      "Track: SLOW DANCING IN THE DARK - Acoustic Remix, Play Count: 2\n",
      "Track: Run, Play Count: 2\n",
      "Track: Reanimator (feat. Yves Tumor), Play Count: 2\n",
      "Track: Pretty Boy (feat. Lil Yachty), Play Count: 2\n",
      "Track: NO FUN, Play Count: 2\n",
      "Track: I'LL SEE YOU IN 40, Play Count: 2\n",
      "Track: High Hopes (feat. Omar Apollo), Play Count: 2\n",
      "Track: COME THRU, Play Count: 2\n",
      "Track: Before The Day Is Over, Play Count: 2\n",
      "Track: BLAHBLAHBLAH DEMO, Play Count: 2\n"
     ]
    }
   ],
   "execution_count": 11
  },
  {
   "metadata": {
    "ExecuteTime": {
     "end_time": "2025-02-16T06:40:30.462897Z",
     "start_time": "2025-02-16T06:40:30.438246Z"
    }
   },
   "cell_type": "code",
   "source": "",
   "id": "fdc315d94d8be798",
   "outputs": [
    {
     "ename": "PermissionError",
     "evalue": "[Errno 13] Permission denied: '/data'",
     "output_type": "error",
     "traceback": [
      "\u001B[0;31m---------------------------------------------------------------------------\u001B[0m",
      "\u001B[0;31mPermissionError\u001B[0m                           Traceback (most recent call last)",
      "Cell \u001B[0;32mIn[16], line 3\u001B[0m\n\u001B[1;32m      1\u001B[0m \u001B[38;5;28;01mimport\u001B[39;00m \u001B[38;5;21;01mos\u001B[39;00m\n\u001B[1;32m      2\u001B[0m os\u001B[38;5;241m.\u001B[39mgetcwd()\n\u001B[0;32m----> 3\u001B[0m os\u001B[38;5;241m.\u001B[39mmkdir(\u001B[38;5;124m\"\u001B[39m\u001B[38;5;124m/data\u001B[39m\u001B[38;5;124m\"\u001B[39m)\n",
      "\u001B[0;31mPermissionError\u001B[0m: [Errno 13] Permission denied: '/data'"
     ]
    }
   ],
   "execution_count": 16
  },
  {
   "metadata": {},
   "cell_type": "code",
   "outputs": [],
   "execution_count": null,
   "source": "",
   "id": "1af345e991b58c41"
  }
 ],
 "metadata": {
  "kernelspec": {
   "display_name": "Python 3",
   "language": "python",
   "name": "python3"
  },
  "language_info": {
   "codemirror_mode": {
    "name": "ipython",
    "version": 2
   },
   "file_extension": ".py",
   "mimetype": "text/x-python",
   "name": "python",
   "nbconvert_exporter": "python",
   "pygments_lexer": "ipython2",
   "version": "2.7.6"
  }
 },
 "nbformat": 4,
 "nbformat_minor": 5
}
